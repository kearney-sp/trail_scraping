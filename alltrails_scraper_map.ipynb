{
 "cells": [
  {
   "cell_type": "code",
   "execution_count": 256,
   "metadata": {},
   "outputs": [],
   "source": [
    "# load the packages needed to run the code\n",
    "import os\n",
    "import pandas as pd\n",
    "from selenium import webdriver\n",
    "from selenium.webdriver.support.ui import WebDriverWait\n",
    "from selenium.webdriver.support import expected_conditions as ec\n",
    "from selenium.webdriver.common.by import By\n",
    "from selenium.webdriver.common.keys import Keys\n",
    "from selenium.webdriver.common.action_chains import ActionChains\n",
    "from selenium.common.exceptions import NoSuchElementException\n",
    "import re\n",
    "from webdriver_manager.chrome import ChromeDriverManager\n",
    "from webdriver_manager.utils import ChromeType\n",
    "#from tqdm import tqdm, tqdm_notebook\n",
    "from tqdm.notebook import tqdm"
   ]
  },
  {
   "cell_type": "code",
   "execution_count": 257,
   "metadata": {},
   "outputs": [],
   "source": [
    "activity_list = ['Backpacking',\n",
    "                 'Bird watching',\n",
    "                 'Camping',\n",
    "                 'Cross country skiing',\n",
    "                 'Fishing',\n",
    "                 'Hiking',\n",
    "                 'Horseback riding',\n",
    "                 'Mountain biking',\n",
    "                 'Nature trips',\n",
    "                 'Off-road driving',\n",
    "                 'Paddle sports',\n",
    "                 'Road biking',\n",
    "                 'Rock climbing',\n",
    "                 'Scenic driving',\n",
    "                 'Skiing',\n",
    "                 'Snowshoeing',\n",
    "                 'Surfing',\n",
    "                 'Running',\n",
    "                 'Walking']\n",
    "\n",
    "attraction_list = ['Beach',\n",
    "                   'Cave',\n",
    "                   'City walk',\n",
    "                   'Forest',\n",
    "                   'Historic site',\n",
    "                   'Hot springs',\n",
    "                   'Lake',\n",
    "                   'Pub walk',\n",
    "                   'Rails trails',\n",
    "                   'River',\n",
    "                   'Views',\n",
    "                   'Waterfall',\n",
    "                   'Wild flowers',\n",
    "                   'Wildlife']\n",
    "\n",
    "suitability_list = ['Dog friendly',\n",
    "                    'Kid friendly',\n",
    "                    'Partially paved',\n",
    "                    'Paved',\n",
    "                    'Stroller friendly',\n",
    "                    'Wheelchair friendly']"
   ]
  },
  {
   "cell_type": "code",
   "execution_count": 258,
   "metadata": {},
   "outputs": [],
   "source": [
    "# specify the path where you want to save the .csv file\n",
    "#outpath = '/Users/spk/Documents/Code/Python/webscrape_proj/outputs/banff_national_park_trailforks.csv'\n",
    "outDIR = '/Users/spk/Documents/GitHub/trail_scraping/outputs/'\n",
    "if not os.path.exists(outDIR):\n",
    "    os.mkdir(outDIR)\n",
    "out_name = 'AllTrails_Kananaskis_CPLU.csv'\n",
    "# specify the url that you want to scrape from\n",
    "b_tl_lat=50.90000\n",
    "b_tl_lng=-115.20000\n",
    "b_br_lat=50.70000\n",
    "b_br_lng=-114.70000\n",
    "url_main = 'https://www.alltrails.com/explore?b_tl_lat=' + str(b_tl_lat) + \\\n",
    "'&b_tl_lng=' + str(b_tl_lng) + \\\n",
    "'&b_br_lat=' + str(b_br_lat) + \\\n",
    "'&b_br_lng=' + str(b_br_lng)"
   ]
  },
  {
   "cell_type": "code",
   "execution_count": 259,
   "metadata": {},
   "outputs": [
    {
     "name": "stderr",
     "output_type": "stream",
     "text": [
      "[WDM] - Current google-chrome version is 89.0.4389\n",
      "[WDM] - Get LATEST driver version for 89.0.4389\n",
      "[WDM] - Get LATEST driver version for 89.0.4389\n",
      "[WDM] - Trying to download new driver from http://chromedriver.storage.googleapis.com/89.0.4389.23/chromedriver_mac64.zip\n"
     ]
    },
    {
     "name": "stdout",
     "output_type": "stream",
     "text": [
      " \n"
     ]
    },
    {
     "name": "stderr",
     "output_type": "stream",
     "text": [
      "[WDM] - Driver has been saved in cache [/Users/spk/.wdm/drivers/chromedriver/mac64/89.0.4389.23]\n"
     ]
    }
   ],
   "source": [
    "options = webdriver.ChromeOptions()\n",
    "options = webdriver.ChromeOptions()\n",
    "#options.add_argument(\"--headless\")\n",
    "options.add_argument('--no-sandbox') \n",
    "options.add_argument('--disable-dev-shm-usage')\n",
    "options.add_argument('window-size=1920,1080')\n",
    "\n",
    "driver = webdriver.Chrome(ChromeDriverManager(chrome_type=ChromeType.GOOGLE).install(),\n",
    "                         options=options)\n",
    "#driver.maximize_window()\n",
    "#driver.execute_script(\"document.body.style.zoom='50%'\")\n",
    "timeout = 5"
   ]
  },
  {
   "cell_type": "code",
   "execution_count": 260,
   "metadata": {},
   "outputs": [],
   "source": [
    "driver.get(url_main)\n",
    "trail_num_xp = '/html/body/div[3]/div[2]/main/div/div/div/div[3]/div[1]/div/div[1]'\n",
    "trail_table_elem = WebDriverWait(driver, timeout)\\\n",
    "    .until(ec.presence_of_element_located((By.XPATH, \n",
    "                                           trail_num_xp)))\n"
   ]
  },
  {
   "cell_type": "code",
   "execution_count": 243,
   "metadata": {},
   "outputs": [
    {
     "name": "stdout",
     "output_type": "stream",
     "text": [
      "112 trails found. Continue?\n"
     ]
    }
   ],
   "source": [
    "trail_num_txt = trail_table_elem.find_element(By.XPATH,\n",
    "                                         trail_num_xp).text\n",
    "trail_num_str = trail_num_txt[trail_num_txt.find(\"(\")+1:trail_num_txt.find(\")\")]\n",
    "print(trail_num_str + ' trails found. Continue?')\n"
   ]
  },
  {
   "cell_type": "code",
   "execution_count": 244,
   "metadata": {},
   "outputs": [],
   "source": [
    "if trail_num_str == '1000+':\n",
    "    print('Too many trails, need to zoom in on map')\n",
    "else:\n",
    "    trail_num = int(trail_num_str)"
   ]
  },
  {
   "cell_type": "code",
   "execution_count": 245,
   "metadata": {},
   "outputs": [],
   "source": [
    "scrollPane = trail_table_elem.find_element(By.XPATH, \n",
    "                                           '/html/body/div[3]/div[2]/main/div/div/div/div[3]/div[1]/ul')\n"
   ]
  },
  {
   "cell_type": "code",
   "execution_count": 246,
   "metadata": {},
   "outputs": [],
   "source": [
    "viz_trails = scrollPane.find_elements(By.XPATH,\n",
    "                                      '//*[@id=\"fullscreen-search-results\"]/ul/li')\n",
    "trail_num_viz = len(viz_trails)"
   ]
  },
  {
   "cell_type": "code",
   "execution_count": 247,
   "metadata": {},
   "outputs": [],
   "source": [
    "ActionChains(driver).move_to_element_with_offset(scrollPane,\n",
    "                                                xoffset=5,\n",
    "                                                yoffset=5).click().perform()"
   ]
  },
  {
   "cell_type": "code",
   "execution_count": 248,
   "metadata": {},
   "outputs": [
    {
     "name": "stdout",
     "output_type": "stream",
     "text": [
      "112\r"
     ]
    }
   ],
   "source": [
    "while trail_num_viz < trail_num:\n",
    "    ActionChains(driver).send_keys(Keys.PAGE_DOWN).perform()\n",
    "    viz_trails = scrollPane.find_elements(By.XPATH,\n",
    "                                      '//*[@id=\"fullscreen-search-results\"]/ul/li')\n",
    "    trail_num_viz = len(viz_trails)\n",
    "    print('\\r' + str(trail_num_viz), end='\\r', flush=True)\n"
   ]
  },
  {
   "cell_type": "code",
   "execution_count": 250,
   "metadata": {},
   "outputs": [
    {
     "name": "stdout",
     "output_type": "stream",
     "text": [
      "112 of 112: Mount Glasgow and Mount Cornwall via Little Elbow Trail                                                                 "
     ]
    }
   ],
   "source": [
    "df_out = pd.DataFrame(columns=['Name', 'URL', 'Zone', 'Difficulty', 'Rating', 'Reviews'])\n",
    "for idx, t in enumerate(viz_trails):\n",
    "    name = t.find_element(By.XPATH,\n",
    "                          './/div/a').get_attribute('text')\n",
    "    print_space = ' ' * (70-len(name))\n",
    "    print('\\r' + str(idx+1) + ' of ' + str(trail_num_viz) + ': ' + name + print_space, \n",
    "          end='', flush=True)\n",
    "    url = t.find_element(By.XPATH,\n",
    "                      './/div/a').get_attribute('href')\n",
    "    zone = t.find_element(By.XPATH,\n",
    "                      './/div/div[2]/a').get_attribute('text')  \n",
    "    diff = t.find_element(By.XPATH,\n",
    "                      './/div[2]/div[2]/span[1]').text \n",
    "    try:\n",
    "        rating = re.sub(' Stars', '', t.find_element(By.XPATH,\n",
    "                                                 './/div[2]/div[2]/span[2]').get_attribute('aria-label'))\n",
    "    except NoSuchElementException:\n",
    "        rating = 'NA'\n",
    "    try:\n",
    "        revs = int(t.find_element(By.XPATH,\n",
    "                                  './/div[2]/div[2]/span[3]').text.replace('(', '').replace(')', ''))\n",
    "    except NoSuchElementException:\n",
    "        revs = 0\n",
    "    df_tmp = pd.DataFrame({\n",
    "        'Name': name,\n",
    "        'URL': url,\n",
    "        'Zone': zone,\n",
    "        'Difficulty': diff,\n",
    "        'Rating': rating,\n",
    "        'Reviews': revs\n",
    "    }, index=[len(df_out.index)])\n",
    "    df_out = df_out.append(df_tmp)"
   ]
  },
  {
   "cell_type": "code",
   "execution_count": null,
   "metadata": {},
   "outputs": [
    {
     "name": "stdout",
     "output_type": "stream",
     "text": [
      "85 of 112: Moose Mountain Traverse                                                                                                 \u001b[1K\r"
     ]
    }
   ],
   "source": [
    "for idx, url in enumerate(df_out['URL']):\n",
    "    name = df_out.loc[idx, 'Name']\n",
    "    print_space = ' ' * (70-len(name))\n",
    "    print('\\x1b[1K\\r' + str(idx+1) + ' of ' + str(trail_num_viz) + ': ' + name + print_space, \n",
    "      end='\\x1b[1K\\r', flush=True)\n",
    "    driver.get(re.sub('\\?ref=result-card', '', re.sub('/explore', '', url)))\n",
    "    elev_gain = WebDriverWait(driver, timeout)\\\n",
    "    .until(ec.presence_of_element_located(\n",
    "        (By.XPATH,\n",
    "         '//*[@id=\"main\"]/div[2]/div[1]/article/section[2]/div/span[2]/span[2]'))).text\n",
    "    df_out.loc[idx, 'Route type'] = driver.find_element(\n",
    "        By.XPATH,\n",
    "        '//*[@id=\"main\"]/div[2]/div[1]/article/section[2]/div/span[3]/span[2]').text\n",
    "    if bool(re.search(' ft', elev_gain)):\n",
    "        df_out.loc[idx, 'Elevation_gain_m']  = round(\n",
    "            float(re.sub(' ft', '', elev_gain).replace(',', '')) * 0.3048, 2)\n",
    "    else:\n",
    "        df_out.loc[idx, 'Elevation_gain_m']  = round(\n",
    "            float(re.sub(' m', '', elev_gain).replace(',', '')) * 0.3048, 2)\n",
    "    para = driver.find_element(By.XPATH,\n",
    "                          '//*[@id=\"auto-overview\"]').text.split()\n",
    "    try:\n",
    "        df_out.loc[idx, 'Traffic'] = para[para.index('trafficked') - 1]\n",
    "    except ValueError:\n",
    "        df_out.loc[idx, 'Traffic'] = 'NA'\n",
    "    tag_cloud = driver.find_elements(By.XPATH, \n",
    "                                     '//*[@id=\"main\"]/div[2]/div[1]/article/section[3]/*')\n",
    "    activities = []\n",
    "    attractions = []\n",
    "    suitabilities = []\n",
    "    for tag in tag_cloud:\n",
    "        if tag.text in activity_list:\n",
    "            activities.append(tag.text)\n",
    "        if tag.text in attraction_list:\n",
    "            attractions.append(tag.text)\n",
    "        if tag.text in suitability_list:\n",
    "            suitabilities.append(tag.text)\n",
    "    df_out.loc[idx, 'Activities'] = ', '.join(activities)\n",
    "    df_out.loc[idx, 'Attractions'] = ', '.join(attractions)\n",
    "    df_out.loc[idx, 'Suitabilities'] = ', '.join(suitabilities)"
   ]
  },
  {
   "cell_type": "code",
   "execution_count": 255,
   "metadata": {},
   "outputs": [],
   "source": [
    "df_out.to_csv('/Users/spk/Documents/GitHub/trail_scraping/outputs/AllTrails_csv/' + \n",
    "              'AllTrails_attrs_' + str(b_tl_lat) + str(b_tl_lng) + '.csv')"
   ]
  },
  {
   "cell_type": "code",
   "execution_count": null,
   "metadata": {},
   "outputs": [],
   "source": []
  }
 ],
 "metadata": {
  "kernelspec": {
   "display_name": "Python 3",
   "language": "python",
   "name": "python3"
  },
  "language_info": {
   "codemirror_mode": {
    "name": "ipython",
    "version": 3
   },
   "file_extension": ".py",
   "mimetype": "text/x-python",
   "name": "python",
   "nbconvert_exporter": "python",
   "pygments_lexer": "ipython3",
   "version": "3.8.6"
  }
 },
 "nbformat": 4,
 "nbformat_minor": 4
}
