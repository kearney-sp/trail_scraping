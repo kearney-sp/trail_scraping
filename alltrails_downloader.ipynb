{
 "cells": [
  {
   "cell_type": "code",
   "execution_count": 6,
   "metadata": {},
   "outputs": [],
   "source": [
    "# load the packages needed to run the code\n",
    "import os\n",
    "import pandas as pd\n",
    "import geopandas as gpd\n",
    "import numpy as np\n",
    "import time\n",
    "from selenium import webdriver\n",
    "from selenium.webdriver.support.ui import WebDriverWait\n",
    "from selenium.webdriver.support import expected_conditions as ec\n",
    "from selenium.webdriver.common.by import By\n",
    "from selenium.webdriver.common.keys import Keys\n",
    "from selenium.webdriver.common.action_chains import ActionChains\n",
    "from selenium.common.exceptions import NoSuchElementException, TimeoutException\n",
    "import re\n",
    "from webdriver_manager.chrome import ChromeDriverManager\n",
    "from webdriver_manager.utils import ChromeType\n",
    "#from tqdm import tqdm, tqdm_notebook\n",
    "from tqdm.notebook import tqdm"
   ]
  },
  {
   "cell_type": "code",
   "execution_count": 7,
   "metadata": {},
   "outputs": [],
   "source": [
    "inDIR = '/Users/spk/Documents/GitHub/trail_scraping/outputs/'\n",
    "inFILE = 'AllTrails_details_UC_middle_watersheds.csv'"
   ]
  },
  {
   "cell_type": "code",
   "execution_count": 8,
   "metadata": {},
   "outputs": [],
   "source": [
    "df_out_fnl = pd.read_csv(inDIR + inFILE)"
   ]
  },
  {
   "cell_type": "code",
   "execution_count": 9,
   "metadata": {},
   "outputs": [
    {
     "name": "stderr",
     "output_type": "stream",
     "text": [
      "[WDM] - Current google-chrome version is 89.0.4389\n",
      "[WDM] - Get LATEST driver version for 89.0.4389\n",
      "[WDM] - Driver [/Users/spk/.wdm/drivers/chromedriver/mac64/89.0.4389.23/chromedriver] found in cache\n"
     ]
    },
    {
     "name": "stdout",
     "output_type": "stream",
     "text": [
      " \n"
     ]
    }
   ],
   "source": [
    "from selenium.webdriver.firefox.options import Options\n",
    "options = Options()\n",
    "from webdriver_manager.firefox import \n",
    "#options.add_argument(\"--headless\")\n",
    "#options.add_argument('--incognito') \n",
    "options.add_argument('--no-sandbox') \n",
    "options.add_argument('--disable-dev-shm-usage')\n",
    "options.add_argument('window-size=1920,1080')\n",
    "\n",
    "driver = webdriver.Firefox(GeckoDriverManager(chrome_type=ChromeType.GOOGLE).install(),\n",
    "                         options=options)\n",
    "#driver.maximize_window()\n",
    "#driver.execute_script(\"document.body.style.zoom='50%'\")\n",
    "timeout = 20"
   ]
  },
  {
   "cell_type": "code",
   "execution_count": null,
   "metadata": {},
   "outputs": [],
   "source": [
    "webdriver."
   ]
  },
  {
   "cell_type": "code",
   "execution_count": 10,
   "metadata": {},
   "outputs": [
    {
     "name": "stdout",
     "output_type": "stream",
     "text": [
      "0 of 411\n",
      "Dennison Lake Trail\n"
     ]
    },
    {
     "ename": "KeyboardInterrupt",
     "evalue": "",
     "output_type": "error",
     "traceback": [
      "\u001b[0;31m---------------------------------------------------------------------------\u001b[0m",
      "\u001b[0;31mKeyboardInterrupt\u001b[0m                         Traceback (most recent call last)",
      "\u001b[0;32m<ipython-input-10-a398e71965de>\u001b[0m in \u001b[0;36m<module>\u001b[0;34m\u001b[0m\n\u001b[1;32m     25\u001b[0m \u001b[0;34m\u001b[0m\u001b[0m\n\u001b[1;32m     26\u001b[0m             \u001b[0msave_xp\u001b[0m \u001b[0;34m=\u001b[0m \u001b[0;34m'/html/body/div[3]/div[2]/main/div/div/div/div[3]/div[2]/div[3]/div/button[1]'\u001b[0m\u001b[0;34m\u001b[0m\u001b[0;34m\u001b[0m\u001b[0m\n\u001b[0;32m---> 27\u001b[0;31m             \u001b[0msave_elem\u001b[0m \u001b[0;34m=\u001b[0m \u001b[0mWebDriverWait\u001b[0m\u001b[0;34m(\u001b[0m\u001b[0mdriver\u001b[0m\u001b[0;34m,\u001b[0m \u001b[0mtimeout\u001b[0m\u001b[0;34m)\u001b[0m\u001b[0;31m\\\u001b[0m\u001b[0;34m\u001b[0m\u001b[0;34m\u001b[0m\u001b[0m\n\u001b[0m\u001b[1;32m     28\u001b[0m                         .until(ec.presence_of_element_located((By.XPATH, \n\u001b[1;32m     29\u001b[0m                                                                save_xp)))\n",
      "\u001b[0;32m~/opt/anaconda3/envs/webscrape_env/lib/python3.8/site-packages/selenium/webdriver/support/wait.py\u001b[0m in \u001b[0;36muntil\u001b[0;34m(self, method, message)\u001b[0m\n\u001b[1;32m     75\u001b[0m                 \u001b[0mscreen\u001b[0m \u001b[0;34m=\u001b[0m \u001b[0mgetattr\u001b[0m\u001b[0;34m(\u001b[0m\u001b[0mexc\u001b[0m\u001b[0;34m,\u001b[0m \u001b[0;34m'screen'\u001b[0m\u001b[0;34m,\u001b[0m \u001b[0;32mNone\u001b[0m\u001b[0;34m)\u001b[0m\u001b[0;34m\u001b[0m\u001b[0;34m\u001b[0m\u001b[0m\n\u001b[1;32m     76\u001b[0m                 \u001b[0mstacktrace\u001b[0m \u001b[0;34m=\u001b[0m \u001b[0mgetattr\u001b[0m\u001b[0;34m(\u001b[0m\u001b[0mexc\u001b[0m\u001b[0;34m,\u001b[0m \u001b[0;34m'stacktrace'\u001b[0m\u001b[0;34m,\u001b[0m \u001b[0;32mNone\u001b[0m\u001b[0;34m)\u001b[0m\u001b[0;34m\u001b[0m\u001b[0;34m\u001b[0m\u001b[0m\n\u001b[0;32m---> 77\u001b[0;31m             \u001b[0mtime\u001b[0m\u001b[0;34m.\u001b[0m\u001b[0msleep\u001b[0m\u001b[0;34m(\u001b[0m\u001b[0mself\u001b[0m\u001b[0;34m.\u001b[0m\u001b[0m_poll\u001b[0m\u001b[0;34m)\u001b[0m\u001b[0;34m\u001b[0m\u001b[0;34m\u001b[0m\u001b[0m\n\u001b[0m\u001b[1;32m     78\u001b[0m             \u001b[0;32mif\u001b[0m \u001b[0mtime\u001b[0m\u001b[0;34m.\u001b[0m\u001b[0mtime\u001b[0m\u001b[0;34m(\u001b[0m\u001b[0;34m)\u001b[0m \u001b[0;34m>\u001b[0m \u001b[0mend_time\u001b[0m\u001b[0;34m:\u001b[0m\u001b[0;34m\u001b[0m\u001b[0;34m\u001b[0m\u001b[0m\n\u001b[1;32m     79\u001b[0m                 \u001b[0;32mbreak\u001b[0m\u001b[0;34m\u001b[0m\u001b[0;34m\u001b[0m\u001b[0m\n",
      "\u001b[0;31mKeyboardInterrupt\u001b[0m: "
     ]
    }
   ],
   "source": [
    "i_ct = 0\n",
    "for (idx, url) in zip(df_out_fnl.index[:], df_out_fnl['URL'][:]):\n",
    "    for attempt in range(10):\n",
    "        try:\n",
    "            print(str(idx) + ' of ' + str(len(df_out_fnl)))\n",
    "            print(df_out_fnl['Name'][idx])\n",
    "            driver.get(url)\n",
    "            if i_ct == 0:\n",
    "                login_xp = '/html/body/div[3]/header/div[2]/div/div/nav/div/div[3]/div/div[2]/div/a/div'\n",
    "                login_elem = WebDriverWait(driver, timeout)\\\n",
    "                            .until(ec.presence_of_element_located((By.XPATH, \n",
    "                                                                   login_xp)))\n",
    "                login_elem.click()\n",
    "                user_xp = '/html/body/div[3]/div[3]/div[1]/div/div/div/div[2]/form/div[1]/div/div/input'\n",
    "                pass_xp = '/html/body/div[3]/div[3]/div[1]/div/div/div/div[2]/form/div[2]/div/div/input'\n",
    "                user_elem = WebDriverWait(driver, timeout)\\\n",
    "                            .until(ec.presence_of_element_located((By.XPATH, \n",
    "                                                                   user_xp)))\n",
    "                user_elem.send_keys('sean.patrick@hotmail.com')\n",
    "                pass_elem = WebDriverWait(driver, timeout)\\\n",
    "                            .until(ec.presence_of_element_located((By.XPATH, \n",
    "                                                                   pass_xp)))\n",
    "                pass_elem.send_keys('1mrChamu')\n",
    "                pass_elem.send_keys(Keys.ENTER)\n",
    "\n",
    "            save_xp = '/html/body/div[3]/div[2]/main/div/div/div/div[3]/div[2]/div[3]/div/button[1]'\n",
    "            save_elem = WebDriverWait(driver, timeout)\\\n",
    "                        .until(ec.presence_of_element_located((By.XPATH, \n",
    "                                                               save_xp)))\n",
    "            #time.sleep(2)\n",
    "            save_elem.click()\n",
    "            dots_button_xp = '//*[@id=\"fullscreen-search-results\"]/div/div[1]/div[2]/div[2]/button'\n",
    "            dots_button_elem = WebDriverWait(driver, timeout)\\\n",
    "                        .until(ec.presence_of_element_located((By.XPATH, \n",
    "                                                               dots_button_xp)))\n",
    "            #time.sleep(2)\n",
    "            dots_button_elem.click()\n",
    "            dl_button_xp = '/html/body/div[7]/div[3]/ul/li[1]'\n",
    "            dl_button_elem = WebDriverWait(driver, timeout)\\\n",
    "                        .until(ec.presence_of_element_located((By.XPATH, \n",
    "                                                               dl_button_xp)))\n",
    "            time.sleep(2)\n",
    "            dl_button_elem.click()\n",
    "            time.sleep(2)\n",
    "            ActionChains(driver).send_keys(Keys.TAB).perform()\n",
    "            ActionChains(driver).send_keys(Keys.TAB).perform()\n",
    "            ActionChains(driver).send_keys(Keys.TAB).perform()\n",
    "            ActionChains(driver).send_keys(Keys.ENTER).perform()\n",
    "\n",
    "            #dots_button_elem.click()\n",
    "            #del_button_xp = '/html/body/div[7]/div[3]/ul/li[2]'\n",
    "            #del_button_elem = WebDriverWait(driver, timeout)\\\n",
    "            #        .until(ec.presence_of_element_located((By.XPATH, \n",
    "            #                                               del_button_xp)))\n",
    "            #del_button_elem.click()\n",
    "            i_ct += 1\n",
    "        except (TimeoutException, TimeoutError) as e:\n",
    "            if attempt < 9:\n",
    "                print('Time out error. Retrying url')\n",
    "                continue\n",
    "            else:\n",
    "                raise\n",
    "        else:\n",
    "            break"
   ]
  },
  {
   "cell_type": "code",
   "execution_count": 24,
   "metadata": {},
   "outputs": [
    {
     "data": {
      "text/plain": [
       "146"
      ]
     },
     "execution_count": 24,
     "metadata": {},
     "output_type": "execute_result"
    }
   ],
   "source": [
    "idx"
   ]
  },
  {
   "cell_type": "code",
   "execution_count": 16,
   "metadata": {},
   "outputs": [],
   "source": [
    "login_xp = '/html/body/div[3]/header/div[2]/div/div/nav/div/div[3]/div/div[2]/div/a/div'\n",
    "login_elem = WebDriverWait(driver, timeout)\\\n",
    "            .until(ec.presence_of_element_located((By.XPATH, \n",
    "                                                   login_xp)))\n",
    "login_elem.click()"
   ]
  },
  {
   "cell_type": "code",
   "execution_count": 20,
   "metadata": {},
   "outputs": [],
   "source": [
    "user_xp = '/html/body/div[3]/div[3]/div[1]/div/div/div/div[2]/form/div[1]/div/div/input'\n",
    "pass_xp = '/html/body/div[3]/div[3]/div[1]/div/div/div/div[2]/form/div[2]/div/div/input'\n",
    "\n",
    "user_elem = WebDriverWait(driver, timeout)\\\n",
    "            .until(ec.presence_of_element_located((By.XPATH, \n",
    "                                                   user_xp)))\n",
    "user_elem.send_keys('sean.patrick@hotmail.com')\n",
    "\n",
    "pass_elem = WebDriverWait(driver, timeout)\\\n",
    "            .until(ec.presence_of_element_located((By.XPATH, \n",
    "                                                   pass_xp)))\n",
    "pass_elem.send_keys('1mrChamu')\n",
    "pass_elem.send_keys(Keys.ENTER)"
   ]
  },
  {
   "cell_type": "code",
   "execution_count": 21,
   "metadata": {},
   "outputs": [],
   "source": [
    "save_xp = '/html/body/div[3]/div[2]/main/div/div/div/div[3]/div[2]/div[3]/div/button[1]'\n",
    "save_elem = WebDriverWait(driver, timeout)\\\n",
    "            .until(ec.presence_of_element_located((By.XPATH, \n",
    "                                                   save_xp)))\n",
    "save_elem.click()"
   ]
  },
  {
   "cell_type": "code",
   "execution_count": 22,
   "metadata": {},
   "outputs": [],
   "source": [
    "dots_button_xp = '/html/body/div[3]/div[2]/main/div/div/div/div[3]/div[1]/div/div[1]/div[2]/div[2]/button'\n",
    "dots_button_elem = WebDriverWait(driver, timeout)\\\n",
    "            .until(ec.presence_of_element_located((By.XPATH, \n",
    "                                                   dots_button_xp)))\n",
    "dots_button_elem.click()"
   ]
  },
  {
   "cell_type": "code",
   "execution_count": 23,
   "metadata": {},
   "outputs": [],
   "source": [
    "dl_button_xp = '/html/body/div[7]/div[3]/ul/li[1]'\n",
    "dl_button_elem = WebDriverWait(driver, timeout)\\\n",
    "            .until(ec.presence_of_element_located((By.XPATH, \n",
    "                                                   dl_button_xp)))\n",
    "dl_button_elem.click()"
   ]
  },
  {
   "cell_type": "code",
   "execution_count": 53,
   "metadata": {},
   "outputs": [],
   "source": [
    "ActionChains(driver).send_keys(Keys.TAB).perform()\n",
    "ActionChains(driver).send_keys(Keys.TAB).perform()\n",
    "ActionChains(driver).send_keys(Keys.TAB).perform()\n",
    "ActionChains(driver).send_keys(Keys.ENTER).perform()"
   ]
  },
  {
   "cell_type": "code",
   "execution_count": 54,
   "metadata": {},
   "outputs": [],
   "source": []
  },
  {
   "cell_type": "code",
   "execution_count": 55,
   "metadata": {},
   "outputs": [],
   "source": []
  },
  {
   "cell_type": "code",
   "execution_count": 56,
   "metadata": {},
   "outputs": [],
   "source": []
  },
  {
   "cell_type": "code",
   "execution_count": 57,
   "metadata": {},
   "outputs": [],
   "source": []
  },
  {
   "cell_type": "code",
   "execution_count": null,
   "metadata": {},
   "outputs": [],
   "source": []
  }
 ],
 "metadata": {
  "kernelspec": {
   "display_name": "Python 3",
   "language": "python",
   "name": "python3"
  },
  "language_info": {
   "codemirror_mode": {
    "name": "ipython",
    "version": 3
   },
   "file_extension": ".py",
   "mimetype": "text/x-python",
   "name": "python",
   "nbconvert_exporter": "python",
   "pygments_lexer": "ipython3",
   "version": "3.8.6"
  }
 },
 "nbformat": 4,
 "nbformat_minor": 4
}
